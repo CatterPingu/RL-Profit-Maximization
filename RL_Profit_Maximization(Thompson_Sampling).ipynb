{
  "nbformat": 4,
  "nbformat_minor": 0,
  "metadata": {
    "colab": {
      "provenance": []
    },
    "kernelspec": {
      "name": "python3",
      "display_name": "Python 3"
    }
  },
  "cells": [
    {
      "cell_type": "code",
      "source": [
        "import numpy as np\n",
        "import locale\n"
      ],
      "metadata": {
        "id": "OVHpTpBxD7OP"
      },
      "execution_count": 1,
      "outputs": []
    },
    {
      "cell_type": "code",
      "source": [
        "#for currency\n",
        "locale.setlocale(locale.LC_ALL, 'en_US.utf8')\n",
        "\n",
        "#define a seed for the random number generator (to ensure that results are reproducible)\n",
        "np.random.seed(367)"
      ],
      "metadata": {
        "id": "uTCNWrEVEACP"
      },
      "execution_count": 2,
      "outputs": []
    },
    {
      "cell_type": "markdown",
      "source": [
        "## defining a class"
      ],
      "metadata": {
        "id": "3emkyAUJE7ZS"
      }
    },
    {
      "cell_type": "code",
      "source": [
        "class Advertising_Campaign():\n",
        "  \n",
        "  def __init__(self, campaign_id):\n",
        "    self.id = campaign_id\n",
        "    #random conversion rate(1-20%)\n",
        "    self.conversion_rate = np.random.uniform(0.01, 0.2)\n",
        "    #random profit\n",
        "    self.average_profit_per_sale = np.random.uniform(100., 200.)\n",
        "    #successful or not\n",
        "    self.sales = 0\n",
        "    self.no_sales = 0\n",
        "    #number of times a compaign was tried\n",
        "  def total_trials(self):\n",
        "    return self.sales + self.no_sales\n",
        "  \n",
        "#profit genereated by a campaign\n",
        "  def total_profit(self):\n",
        "    return self.sales * self.average_profit_per_sale\n",
        "\n",
        "#profit per trial\n",
        "  def actual_profit_per_trial(self):\n",
        "    if self.total_trials() > 0:\n",
        "      return self.total_profit() / self.total_trials()\n",
        "    else:\n",
        "      return 0.\n",
        "\n",
        "#expected profit(though this will never be known in real life)\n",
        "  def expected_profit_per_trial(self):\n",
        "    return self.conversion_rate * self.average_profit_per_sale\n",
        "\n",
        "\n",
        "#try a specific campaign on a customer\n",
        "def try_campaign(campaign):\n",
        "  if np.random.random() <= campaign.conversion_rate:\n",
        "    campaign.sales += 1\n",
        "  else:\n",
        "    campaign.no_sales += 1\n",
        "\n",
        "  "
      ],
      "metadata": {
        "id": "s1kg2BjdEVPD"
      },
      "execution_count": 5,
      "outputs": []
    },
    {
      "cell_type": "markdown",
      "source": [
        "## Environment"
      ],
      "metadata": {
        "id": "e-NypacRFWNK"
      }
    },
    {
      "cell_type": "code",
      "metadata": {
        "id": "yegv8Ow6Ihgf",
        "colab": {
          "base_uri": "https://localhost:8080/"
        },
        "outputId": "aa465777-0e11-4e8b-d94a-23fe05a616f1"
      },
      "source": [
        "\n",
        "number_of_advertising_campaigns = 8\n",
        "\n",
        "number_of_customers = 10000000\n",
        "\n",
        "campaigns = []\n",
        "\n",
        "for c in range(number_of_advertising_campaigns):\n",
        "  campaigns.append(Advertising_Campaign(c))\n",
        "  #expected profit per trial(won't be known in real life)\n",
        "  print('Campaign {0}: Expected profit per trial = {1}'.format(campaigns[c].id, \n",
        "                                                               locale.currency(campaigns[c].expected_profit_per_trial(), grouping=True)))\n",
        "  "
      ],
      "execution_count": 6,
      "outputs": [
        {
          "output_type": "stream",
          "name": "stdout",
          "text": [
            "Campaign 0: Expected profit per trial = $3.07\n",
            "Campaign 1: Expected profit per trial = $3.10\n",
            "Campaign 2: Expected profit per trial = $2.67\n",
            "Campaign 3: Expected profit per trial = $35.89\n",
            "Campaign 4: Expected profit per trial = $6.30\n",
            "Campaign 5: Expected profit per trial = $11.01\n",
            "Campaign 6: Expected profit per trial = $14.87\n",
            "Campaign 7: Expected profit per trial = $3.91\n"
          ]
        }
      ]
    },
    {
      "cell_type": "markdown",
      "source": [
        "## Thompson Sampling"
      ],
      "metadata": {
        "id": "QN7k0VNHFQR9"
      }
    },
    {
      "cell_type": "code",
      "metadata": {
        "id": "WJAPwBoOcVgl",
        "colab": {
          "base_uri": "https://localhost:8080/"
        },
        "outputId": "55268739-e78c-426e-d761-4169579e2b16"
      },
      "source": [
        "#for every customer\n",
        "for customer in range(number_of_customers):\n",
        "  #best beta value and the best campaign\n",
        "  index_of_campaign_to_try = -1\n",
        "  best_beta_value = -1\n",
        "\n",
        "  #for every campaign\n",
        "  for campaign in campaigns:\n",
        "    current_campaign_beta_value = np.random.beta(campaign.actual_profit_per_trial() + 1., number_of_advertising_campaigns / 2.)#current beta value\n",
        "    \n",
        "    \n",
        "    if current_campaign_beta_value > best_beta_value:\n",
        "\n",
        "      best_beta_value = current_campaign_beta_value\n",
        "   \n",
        "      index_of_campaign_to_try = campaign.id\n",
        "  \n",
        "  #try this campaign on customer\n",
        "  try_campaign(campaigns[index_of_campaign_to_try])\n",
        "\n",
        "\n",
        "total_profit_thompson_sampling = 0\n",
        "total_profit_uniform_sampling = 0\n",
        "\n",
        "#profit using a naive uniform sampling approach\n",
        "uniform_customers_per_campaign = number_of_customers / number_of_advertising_campaigns\n",
        "\n",
        "\n",
        "for campaign in campaigns:\n",
        "  print('Campaign {0}: Actual profit per trial = {1}, Total trials = {2}'.format(campaign.id, \n",
        "                                                                                 locale.currency(campaign.actual_profit_per_trial(), grouping=True), \n",
        "                                                                                 campaign.total_trials()))\n",
        "  total_profit_thompson_sampling += campaign.total_profit()\n",
        "  total_profit_uniform_sampling += (uniform_customers_per_campaign * campaign.conversion_rate * campaign.average_profit_per_sale)\n",
        "\n"
      ],
      "execution_count": 7,
      "outputs": [
        {
          "output_type": "stream",
          "name": "stdout",
          "text": [
            "Campaign 0: Actual profit per trial = $3.05, Total trials = 32685\n",
            "Campaign 1: Actual profit per trial = $2.92, Total trials = 29835\n",
            "Campaign 2: Actual profit per trial = $2.87, Total trials = 35490\n",
            "Campaign 3: Actual profit per trial = $35.84, Total trials = 7836253\n",
            "Campaign 4: Actual profit per trial = $6.27, Total trials = 160701\n",
            "Campaign 5: Actual profit per trial = $11.00, Total trials = 620429\n",
            "Campaign 6: Actual profit per trial = $14.84, Total trials = 1222803\n",
            "Campaign 7: Actual profit per trial = $3.87, Total trials = 61804\n"
          ]
        }
      ]
    },
    {
      "cell_type": "markdown",
      "source": [
        "## Results"
      ],
      "metadata": {
        "id": "jX9OD1-SGCiv"
      }
    },
    {
      "cell_type": "code",
      "source": [
        "\n",
        "print('\\nThompson Sampling total profit: {0}'.format(locale.currency(total_profit_thompson_sampling, grouping=True)))\n",
        "print('Uniform Sampling total profit: {0}'.format(locale.currency(total_profit_uniform_sampling, grouping=True)))\n",
        "print('Thompson Sampling absolute improvement: {0}'.format(locale.currency(total_profit_thompson_sampling - total_profit_uniform_sampling, grouping=True)))\n",
        "print('Thompson Sampling relative improvement: {0:.2%}'.format((total_profit_thompson_sampling / total_profit_uniform_sampling) - 1.))\n"
      ],
      "metadata": {
        "colab": {
          "base_uri": "https://localhost:8080/"
        },
        "id": "yJs4g2gmGBhT",
        "outputId": "1709b3c4-f9b1-42b3-90c5-db7a3866688c"
      },
      "execution_count": 8,
      "outputs": [
        {
          "output_type": "stream",
          "name": "stdout",
          "text": [
            "\n",
            "Thompson Sampling total profit: $307,331,372.64\n",
            "Uniform Sampling total profit: $101,023,876.87\n",
            "Thompson Sampling absolute improvement: $206,307,495.77\n",
            "Thompson Sampling relative improvement: 204.22%\n"
          ]
        }
      ]
    }
  ]
}